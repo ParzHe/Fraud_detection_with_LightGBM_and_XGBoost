{
 "cells": [
  {
   "cell_type": "markdown",
   "metadata": {},
   "source": [
    "# SWE402 - Assignmenrt - Bank Account Fraud Dataset Suite (NeurIPS 2022) Data Mining\n",
    "### -- Group"
   ]
  },
  {
   "cell_type": "markdown",
   "metadata": {},
   "source": [
    "## Table of Content\n",
    "\n",
    "* 1. [Introduction](#1-Introduction)<br>\n",
    "    * 1.1 [Introduce the topic](#11-introduce-the-topic) <br>\n",
    "    * 1.2 [Research questions](#12-research-questions)<br>\n",
    "    * 1.3 [Objective / purpose](#13-objective--purpose)<br>    \n",
    "* 2. [Dataset Description and Reference](#2-dataset-description-and-reference)<br>\n",
    "* 3. [Descriptive with Code](#3-descriptive-with-code) <br>\n",
    "    * 3.1 [Dataset feature description](#31-dataset-feature-description)<br>\n",
    "    * 3.2 [Preprocess the data](#32-preprocess-the-data)<br>\n",
    "    * 3.3 [Data structure](#33-data-structure)<br>\n",
    "    * 3.4 [Summary table](#34-summary-table)\n",
    "    * 3.5 [Data visualization for showing data distribution](#35-data-visualization-for-showing-data-distribution)\n",
    "* 4. [Analysis](#4-analysis)<br>\n",
    "    * 4.1 [For Question: What are correlations between different variables like?](#41-for-question-what-are-correlations-between-different-variables-like)\n",
    "    * 4.2 [t-Test](#42-t-test)\n",
    "    * 4.3 [Linear Regression](#43-linear-regression)\n",
    "    * 4.4 [Data Visualization for Analysis](#44-data-visualization-for-analysis)\n",
    "        * 4.4.1 [For Question: How does WRI change over time?](#441-for-question-how-has-the-global-disaster-risk-index-changed-over-time-are-there-any-patterns-or-trends-in-the-data)\n",
    "        * 4.4.2 [For Question: Which is most/least vunerable region?](#442-for-question-which-regions-are-most--least-vulnerable-to-natural-disasters)\n",
    "    * 4.5 [Machine learning models to predict likelihood](#45-machine-learning-models-to-predict-likelihood)\n",
    "    * 4.6 [Other analysis](#46-other-analysis)\n",
    "* 5. [Conclusion / Findings](#5-conclusion--findings)"
   ]
  },
  {
   "cell_type": "markdown",
   "metadata": {},
   "source": [
    "# 1. Introduction"
   ]
  },
  {
   "cell_type": "markdown",
   "metadata": {},
   "source": [
    "### <b>1.1 Introduce the topic</b><a class=\"anchor\" id=\"11-introduce-the-topic\"></a>"
   ]
  },
  {
   "cell_type": "markdown",
   "metadata": {},
   "source": [
    "### <b>1.2 Research questions</b><a class=\"anchor\" id=\"12-research-questions\"></a>"
   ]
  },
  {
   "cell_type": "markdown",
   "metadata": {},
   "source": [
    "### <b>1.3 Objective / Purpose</b><a class=\"anchor\" id=\"13-objective--purpose\"></a>"
   ]
  },
  {
   "cell_type": "markdown",
   "metadata": {},
   "source": [
    "# 2. Dataset Description and Reference"
   ]
  },
  {
   "cell_type": "markdown",
   "metadata": {},
   "source": [
    "### <b>2.1 Introduce the dataset</b>"
   ]
  },
  {
   "cell_type": "markdown",
   "metadata": {},
   "source": [
    "### <b> 2.2 Dataset Source </b>\n",
    "<ul>\n",
    "    <li><a>https://www.kaggle.com/datasets/sgpjesus/bank-account-fraud-dataset-neurips-2022</a></li>\n",
    "</ul>"
   ]
  },
  {
   "cell_type": "markdown",
   "metadata": {},
   "source": [
    "### <b> 2.3 Reference </b>\n",
    "<ul>\n",
    "    <li>\n",
    "        Placeholder\n",
    "    </li>\n",
    "</ul>\n",
    "<br>"
   ]
  },
  {
   "cell_type": "markdown",
   "metadata": {},
   "source": [
    "# 3. Descriptive with Code"
   ]
  },
  {
   "cell_type": "markdown",
   "metadata": {},
   "source": [
    "Load main Python libraries"
   ]
  },
  {
   "cell_type": "code",
   "execution_count": null,
   "metadata": {},
   "outputs": [],
   "source": [
    "# need to execute commands 'pip install numpy/pandas/seaborn/scipy' in CMD when running in VS Code editor\n",
    "import numpy as np # import NumPy library for numerical computing\n",
    "import pandas as pd # import Pandas library for data manipulation\n",
    "import seaborn as sns # import Seaborn library for data visualization\n",
    "import matplotlib.pyplot as plt # import pyplot module from Matplotlib library for creating plots\n",
    "import math # provide standard mathematical constants and functions\n",
    "import warnings\n",
    "warnings.filterwarnings(\"ignore\")\n",
    "\n",
    "plt.rcParams['axes.unicode_minus'] = False # display the minus sign\n",
    "plt.rcParams.update({'font.size': 16}) # increase fontsize of plots\n",
    "plt.rc('font', family = 'Times New Roman') # set the font of plots to Times New Roman\n",
    "\n",
    "# render plots into output cells directly\n",
    "%matplotlib inline\n",
    "\n",
    "# # import ipyleaflet\n",
    "# import ipyleaflet as ipyl\n",
    "# from ipywidgets import HTML\n",
    "# from IPython.display import display\n",
    "\n",
    "# # create Geocoder \n",
    "# import geopy\n",
    "# from geopy.geocoders import Nominatim"
   ]
  }
 ],
 "metadata": {
  "kernelspec": {
   "display_name": "base",
   "language": "python",
   "name": "python3"
  },
  "language_info": {
   "name": "python",
   "version": "3.11.4"
  },
  "orig_nbformat": 4
 },
 "nbformat": 4,
 "nbformat_minor": 2
}
